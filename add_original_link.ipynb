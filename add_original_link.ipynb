{
 "cells": [
  {
   "cell_type": "code",
   "execution_count": null,
   "id": "aeda8fca",
   "metadata": {},
   "outputs": [
    {
     "name": "stdout",
     "output_type": "stream",
     "text": [
      "Requirement already satisfied: pandas in c:\\users\\dev\\appdata\\local\\programs\\python\\python313\\lib\\site-packages (2.3.2)\n",
      "Requirement already satisfied: numpy>=1.26.0 in c:\\users\\dev\\appdata\\local\\programs\\python\\python313\\lib\\site-packages (from pandas) (2.3.2)\n",
      "Requirement already satisfied: python-dateutil>=2.8.2 in c:\\users\\dev\\appdata\\local\\programs\\python\\python313\\lib\\site-packages (from pandas) (2.9.0.post0)\n",
      "Requirement already satisfied: pytz>=2020.1 in c:\\users\\dev\\appdata\\local\\programs\\python\\python313\\lib\\site-packages (from pandas) (2025.2)\n",
      "Requirement already satisfied: tzdata>=2022.7 in c:\\users\\dev\\appdata\\local\\programs\\python\\python313\\lib\\site-packages (from pandas) (2025.2)\n",
      "Requirement already satisfied: six>=1.5 in c:\\users\\dev\\appdata\\local\\programs\\python\\python313\\lib\\site-packages (from python-dateutil>=2.8.2->pandas) (1.17.0)\n",
      "Note: you may need to restart the kernel to use updated packages.\n"
     ]
    }
   ],
   "source": [
    "pip install pandas\n",
    "pip install selenium"
   ]
  },
  {
   "cell_type": "code",
   "execution_count": 4,
   "id": "b66ba204",
   "metadata": {},
   "outputs": [],
   "source": [
    "import pandas as pd\n",
    "from selenium import webdriver\n",
    "from selenium.webdriver.common.by import By\n",
    "from selenium.webdriver.support.ui import WebDriverWait\n",
    "from selenium.webdriver.support import expected_conditions as EC\n",
    "import time"
   ]
  },
  {
   "cell_type": "code",
   "execution_count": 6,
   "id": "24de81af",
   "metadata": {},
   "outputs": [
    {
     "name": "stdout",
     "output_type": "stream",
     "text": [
      "        회사                                                 제목      경력  \\\n",
      "0  LGAI연구원  Software Engineer Internship (Business Intelli...   경력 무관   \n",
      "1  LGAI연구원                 NLP Quality Engineering Internship   경력 무관   \n",
      "2    업스테이지                               Al Agent Engineer 채용   경력 무관   \n",
      "3    업스테이지                             Al Agentic Engineer 채용  1년차 이상   \n",
      "4    업스테이지             AI Research Engineer - LLM Eval 인턴십 모집   경력 무관   \n",
      "\n",
      "           근무형태     학력 근무지역                                                 링크  \n",
      "0        체험형 인턴   학사석사   서울  https://zighang.com/recruitment/074d5010-7b30-...  \n",
      "1        체험형 인턴  학력 무관   서울  https://zighang.com/recruitment/7bf7df09-7923-...  \n",
      "2     전환형 인턴정규직  학력 무관   경기  https://zighang.com/recruitment/469a0e1b-f60c-...  \n",
      "3     전환형 인턴정규직  학력 무관   경기  https://zighang.com/recruitment/6b4b7855-f21d-...  \n",
      "4  전환형 인턴체험형 인턴  학력 무관   경기  https://zighang.com/recruitment/2c8e5066-d684-...  \n"
     ]
    }
   ],
   "source": [
    "input_filename = \"ai_jobs_captured_list_2025-08-26.xlsx\"\n",
    "try:\n",
    "    df = pd.read_excel(input_filename)\n",
    "    print(df.head(5))\n",
    "except FileNotFoundError:\n",
    "    print(f\"'{input_filename}' 파일을 찾을 수 없습니다. 파일 이름을 확인해주세요.\")\n",
    "    exit()"
   ]
  },
  {
   "cell_type": "code",
   "execution_count": null,
   "id": "65d8b401",
   "metadata": {},
   "outputs": [
    {
     "ename": "NameError",
     "evalue": "name 'webdriver' is not defined",
     "output_type": "error",
     "traceback": [
      "\u001b[31m---------------------------------------------------------------------------\u001b[39m",
      "\u001b[31mNameError\u001b[39m                                 Traceback (most recent call last)",
      "\u001b[36mCell\u001b[39m\u001b[36m \u001b[39m\u001b[32mIn[1]\u001b[39m\u001b[32m, line 1\u001b[39m\n\u001b[32m----> \u001b[39m\u001b[32m1\u001b[39m driver = \u001b[43mwebdriver\u001b[49m.Chrome()\n\u001b[32m      2\u001b[39m original_links = []\n\u001b[32m      4\u001b[39m \u001b[38;5;28;01mfor\u001b[39;00m index, row \u001b[38;5;129;01min\u001b[39;00m df.iterrows():\n",
      "\u001b[31mNameError\u001b[39m: name 'webdriver' is not defined"
     ]
    }
   ],
   "source": [
    "driver = webdriver.Chrome()\n",
    "original_links = []\n",
    "\n",
    "for index, row in df.iterrows():\n",
    "    apply_link = [] = row['링크']\n",
    "    print(f'처리중 ({index + 1}/{len(df)}): {apply_link}')\n",
    "    try:\n",
    "        driver.get(apply_link)\n",
    "        wait = WebDriverWait(driver, 10)\n",
    "        \n",
    "        apply_button = wait.until(EC.element_to_be_clickable((By.XPATH, '//*[contains(text(), \"지원하기\")]')))\n",
    "        \n",
    "        original_window = driver.current_window_handle\n",
    "        \n",
    "        apply_button.click()\n",
    "        \n",
    "        wait.until(EC.number_of_windows_to_be(2))\n",
    "        \n",
    "        for window_handle in driver.window_handles:\n",
    "            if window_handle != original_window:\n",
    "                driver.switch_to.window(window_handle)\n",
    "                break\n",
    "            \n",
    "        time.sleep(2)\n",
    "        \n",
    "        new_url = driver.current_url\n",
    "        \n",
    "    except Exception as e:\n",
    "        print(f'오류 발생: {e}')\n",
    "        original_links.append('추출 실패')"
   ]
  },
  {
   "cell_type": "code",
   "execution_count": null,
   "id": "d292f68d",
   "metadata": {},
   "outputs": [],
   "source": []
  }
 ],
 "metadata": {
  "kernelspec": {
   "display_name": "Python 3",
   "language": "python",
   "name": "python3"
  },
  "language_info": {
   "codemirror_mode": {
    "name": "ipython",
    "version": 3
   },
   "file_extension": ".py",
   "mimetype": "text/x-python",
   "name": "python",
   "nbconvert_exporter": "python",
   "pygments_lexer": "ipython3",
   "version": "3.13.6"
  }
 },
 "nbformat": 4,
 "nbformat_minor": 5
}
